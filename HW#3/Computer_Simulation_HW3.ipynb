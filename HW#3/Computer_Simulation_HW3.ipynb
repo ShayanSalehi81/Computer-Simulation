{
  "nbformat": 4,
  "nbformat_minor": 0,
  "metadata": {
    "colab": {
      "provenance": []
    },
    "kernelspec": {
      "name": "python3",
      "display_name": "Python 3"
    },
    "language_info": {
      "name": "python"
    }
  },
  "cells": [
    {
      "cell_type": "markdown",
      "source": [
        "# Explanation\n",
        "In this question, you will be implementing several Random Number Generators (RNGs) and testing their effectiveness through a series of statistical tests."
      ],
      "metadata": {
        "id": "Z8CWp1AKAQzw"
      }
    },
    {
      "cell_type": "markdown",
      "source": [
        "## Theory Question:\n",
        "What is a **Pseudorandom Number Generator(PRNG)**? Compare it to **RNGs**."
      ],
      "metadata": {
        "id": "Vx078njwCzQZ"
      }
    },
    {
      "cell_type": "markdown",
      "source": [
        "## Imports"
      ],
      "metadata": {
        "id": "DNTnCjldAhwW"
      }
    },
    {
      "cell_type": "code",
      "execution_count": null,
      "metadata": {
        "id": "f1Nz5q4MOoge"
      },
      "outputs": [],
      "source": [
        "import numpy as np\n",
        "import matplotlib.pyplot as plt\n",
        "import scipy.stats as stats\n",
        "import random"
      ]
    },
    {
      "cell_type": "markdown",
      "source": [
        "# (P)Random-Number Generator Implementation"
      ],
      "metadata": {
        "id": "QukowTXPDTNd"
      }
    },
    {
      "cell_type": "markdown",
      "source": [
        "## Linear Congruential Generator (LCG):\n",
        "LCG is a type of RNG that produces a sequence of random numbers based on a linear function. To implement LCG, you will need to follow these steps:\n",
        "\n",
        "*   Set a seed value.\n",
        "*   Choose appropriate values for the multiplier (a), increment (c), and modulus (m).\n",
        "*   Apply the LCG formula to generate a sequence of random numbers."
      ],
      "metadata": {
        "id": "9UT5u2s9AmKl"
      }
    },
    {
      "cell_type": "code",
      "source": [
        "def lcg(seed, a, c, m, n):\n",
        "    numbers = np.zeros(n)\n",
        "      #TODO\n",
        "    return numbers"
      ],
      "metadata": {
        "id": "hrAsMrIEPqbh"
      },
      "execution_count": null,
      "outputs": []
    },
    {
      "cell_type": "markdown",
      "source": [
        "## Combined LCG:\n",
        "\n",
        "Combined LCG is an improved version of LCG that combines the outputs of two or more LCGs to produce a better sequence of random numbers. To implement CLCG, you will need to follow this algorithm:\n",
        "\n",
        "*   Initialize two or more LCGs with different seed values.\n",
        "*   Generate random numbers using each LCG.\n",
        "*   Combine the random numbers using a mathematical function.\n",
        "    \n",
        "    \n",
        "    "
      ],
      "metadata": {
        "id": "3r4p_hP9BOu-"
      }
    },
    {
      "cell_type": "code",
      "source": [
        "def combined_lcg(seed1, seed2, a1, c1, m1, a2, c2, m2, n):\n",
        "    #TODO\n",
        "    lcg1 = ...\n",
        "    lcg2 = ...\n",
        "    return (lcg1 - lcg2) % 1"
      ],
      "metadata": {
        "id": "ML5UAT_WPsg6"
      },
      "execution_count": null,
      "outputs": []
    },
    {
      "cell_type": "markdown",
      "source": [
        "## Truncated LCG:\n",
        "Truncated LCG is another variation of LCG that generates better random numbers by truncating the least significant bits of each iteration. To implement Truncated LCG, you will need to:\n",
        "\n",
        "*   Initialize LCG with an appropriate seed value.\n",
        "*   Choose appropriate values for the multiplier (a), increment (c), and modulus (m).\n",
        "*   Set a lower bound and an upper bound for the number of bits to be stored in each iteration.\n",
        "*   Apply the Truncated LCG formula to generate a sequence of random numbers.\n",
        "\n",
        "\n",
        "\n",
        "\n"
      ],
      "metadata": {
        "id": "yGI0XUyqBwHa"
      }
    },
    {
      "cell_type": "code",
      "source": [
        "def tlcg(seed, a, c, m, l=5, h=20, size):\n",
        "    \n",
        "    # Initialize variables\n",
        "    x = seed % m  # current value of the generator\n",
        "    result = []   # list to store generated numbers\n",
        "    \n",
        "    # Generate pseudo-random numbers using TLCG algorithm\n",
        "    for i in range(size):\n",
        "        x = (a * x + c) % m  # generate next number\n",
        "        \n",
        "        # Truncate bits and store only bits between l and h\n",
        "        bits = ...\n",
        "        #TODO\n",
        "        \n",
        "        # Normalize the truncated number and append to result list\n",
        "        result.append(int(bits, 2) / (2**(h-l+1)))\n",
        "        \n",
        "    return result"
      ],
      "metadata": {
        "id": "P8-ZIXn9PzDH"
      },
      "execution_count": null,
      "outputs": []
    },
    {
      "cell_type": "markdown",
      "source": [
        "## Python Random:\n",
        "Python has a built-in random function that uses the **Mersenne Twister** algorithm to generate random numbers. You can simply use this function to generate a sequence of random numbers."
      ],
      "metadata": {
        "id": "Feh9TdjeCi6H"
      }
    },
    {
      "cell_type": "code",
      "source": [
        "#TODO"
      ],
      "metadata": {
        "id": "47LHJTBzCti_"
      },
      "execution_count": null,
      "outputs": []
    },
    {
      "cell_type": "code",
      "source": [
        "n = 10000\n",
        "seed1, seed2 = 123, 456\n",
        "a1, c1, m1 = 16807, 0, 2**31 - 1\n",
        "a2, c2, m2 = 48271, 0, 2**31 - 1\n",
        "p = 1000\n",
        "\n",
        "lcg_numbers = lcg(seed1, a1, c1, m1, n)\n",
        "truncated_lcg_numbers = tlcg(seed1, a1, c1, m1, size=n)\n",
        "combined_lcg_numbers = combined_lcg(seed1, seed2, a1, c1, m1, a2, c2, m2, n)\n",
        "#TODO\n",
        "python_random_numbers = ..."
      ],
      "metadata": {
        "id": "ps8D54gZFXyH"
      },
      "execution_count": null,
      "outputs": []
    },
    {
      "cell_type": "markdown",
      "source": [
        "# Test Methods Implementation\n",
        "After implementing the RNGs, you need to test their effectiveness through a series of statistical tests:"
      ],
      "metadata": {
        "id": "3L-N2GHKDo1S"
      }
    },
    {
      "cell_type": "markdown",
      "source": [
        "## Kolmogorov-Smirnov test:\n",
        "This test checks whether the distribution of the generated random numbers follows a particular distribution."
      ],
      "metadata": {
        "id": "Wwn822OOD96-"
      }
    },
    {
      "cell_type": "code",
      "source": [
        "def ks_test(numbers):\n",
        "    #TODO\n",
        "    #Hint: You may use: stats.kstest()\n",
        "    return ..."
      ],
      "metadata": {
        "id": "SpRZrwqSD9Gt"
      },
      "execution_count": null,
      "outputs": []
    },
    {
      "cell_type": "markdown",
      "source": [
        "## Chi-Square test: \n",
        "This test checks whether the distribution of the generated random numbers is statistically independent."
      ],
      "metadata": {
        "id": "PpxqN29dElm5"
      }
    },
    {
      "cell_type": "code",
      "source": [
        "def chi_square_test(numbers, num_bins):\n",
        "    freq, _, _ = plt.hist(numbers, bins=num_bins)\n",
        "    plt.clf()\n",
        "    expected_freq = np.full(num_bins, len(numbers) / num_bins)\n",
        "    return stats.chisquare(freq, expected_freq)"
      ],
      "metadata": {
        "id": "HmC_rUsfEbtj"
      },
      "execution_count": null,
      "outputs": []
    },
    {
      "cell_type": "markdown",
      "source": [
        "## Auto-correlation test:\n",
        "This test checks whether there is a correlation between generated numbers and their lagged versions."
      ],
      "metadata": {
        "id": "lQ3G5D0JEwxL"
      }
    },
    {
      "cell_type": "code",
      "source": [
        "def autocorrelation_test(numbers, lag):\n",
        "    x = numbers[:-lag]\n",
        "    y = numbers[lag:]\n",
        "    return np.corrcoef(x, y)[0, 1]"
      ],
      "metadata": {
        "id": "kAIhJcNoE0Q4"
      },
      "execution_count": null,
      "outputs": []
    },
    {
      "cell_type": "markdown",
      "source": [
        "You can introduce another test, such as the Runs test, to test for randomness and implement it."
      ],
      "metadata": {
        "id": "X-qkpp5UFB2X"
      }
    },
    {
      "cell_type": "code",
      "source": [
        "num_bins = 100\n",
        "lag = 1"
      ],
      "metadata": {
        "id": "A5SCoDbcFEPa"
      },
      "execution_count": null,
      "outputs": []
    },
    {
      "cell_type": "markdown",
      "source": [
        "# Show Results"
      ],
      "metadata": {
        "id": "diQ6nYkCF2Ha"
      }
    },
    {
      "cell_type": "code",
      "source": [
        "def print_results(title, ks, chi, auto):\n",
        "    print(f\"{title}:\")\n",
        "    print(f\"  Kolmogorov-Smirnov test: p-value = {ks.pvalue:.6f}\")\n",
        "    print(f\"  Chi-square test: p-value = {chi.pvalue:.6f}\")\n",
        "    print(f\"  Autocorrelation test: {auto:.6f}\")\n",
        "    print()\n",
        "\n",
        "print_results(\"LCG\", ks_test(lcg_numbers), chi_square_test(lcg_numbers, num_bins), autocorrelation_test(lcg_numbers, lag))\n",
        "print_results(\"Truncated LCG\", ks_test(truncated_lcg_numbers), chi_square_test(truncated_lcg_numbers, num_bins), autocorrelation_test(truncated_lcg_numbers, lag))\n",
        "print_results(\"Combined LCG\", ks_test(combined_lcg_numbers), chi_square_test(combined_lcg_numbers, num_bins), autocorrelation_test(combined_lcg_numbers, lag))\n",
        "#TODO\n",
        "print_results(\"Python Random\", ...)"
      ],
      "metadata": {
        "id": "z85cUBuzFMei"
      },
      "execution_count": null,
      "outputs": []
    },
    {
      "cell_type": "code",
      "source": [
        "plt.figure(figsize=(15, 5))\n",
        "\n",
        "plt.subplot(141)\n",
        "plt.hist(lcg_numbers, bins=num_bins, alpha=0.75, color='blue', edgecolor='black')\n",
        "plt.title(\"LCG Histogram\")\n",
        "\n",
        "plt.subplot(142)\n",
        "plt.hist(truncated_lcg_numbers, bins=num_bins, alpha=0.75, color='blue', edgecolor='black')\n",
        "plt.title(\"Truncated LCG Histogram\")\n",
        "\n",
        "plt.subplot(143)\n",
        "plt.hist(combined_lcg_numbers, bins=num_bins, alpha=0.75, color='blue', edgecolor='black')\n",
        "plt.title(\"Combined LCG Histogram\")\n",
        "\n",
        "plt.subplot(144)\n",
        "plt.hist(python_random_numbers, bins=num_bins, alpha=0.75, color='blue', edgecolor='black')\n",
        "plt.title(\"Python Random Histogram\")\n",
        "\n",
        "plt.show()"
      ],
      "metadata": {
        "id": "oXO9r_M4HHMC"
      },
      "execution_count": null,
      "outputs": []
    }
  ]
}